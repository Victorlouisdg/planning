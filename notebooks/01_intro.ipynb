{
 "cells": [
  {
   "attachments": {},
   "cell_type": "markdown",
   "metadata": {},
   "source": [
    "# 01 - Intro to PyBullet"
   ]
  },
  {
   "attachments": {},
   "cell_type": "markdown",
   "metadata": {},
   "source": [
    "## 1 - Getting Started"
   ]
  },
  {
   "attachments": {},
   "cell_type": "markdown",
   "metadata": {},
   "source": [
    "Starting the PyBullet simulator with GUI."
   ]
  },
  {
   "cell_type": "code",
   "execution_count": null,
   "metadata": {},
   "outputs": [],
   "source": [
    "import pybullet as p\n",
    "physicsClient = p.connect(p.GUI)"
   ]
  },
  {
   "attachments": {},
   "cell_type": "markdown",
   "metadata": {},
   "source": [
    "Configuring a few options to make the UI cleaner:"
   ]
  },
  {
   "cell_type": "code",
   "execution_count": null,
   "metadata": {},
   "outputs": [],
   "source": [
    "p.configureDebugVisualizer(p.COV_ENABLE_RGB_BUFFER_PREVIEW, False, physicsClientId=physicsClient)\n",
    "p.configureDebugVisualizer(p.COV_ENABLE_DEPTH_BUFFER_PREVIEW, False, physicsClientId=physicsClient)\n",
    "p.configureDebugVisualizer(p.COV_ENABLE_SEGMENTATION_MARK_PREVIEW, False, physicsClientId=physicsClient)\n",
    "p.configureDebugVisualizer(p.COV_ENABLE_SHADOWS, True, physicsClientId=physicsClient)"
   ]
  },
  {
   "attachments": {},
   "cell_type": "markdown",
   "metadata": {},
   "source": [
    "Loading an URDF file."
   ]
  },
  {
   "cell_type": "code",
   "execution_count": null,
   "metadata": {},
   "outputs": [],
   "source": [
    "import planning\n",
    "robot_id = p.loadURDF(planning.ur5e, useFixedBase=True)\n",
    "robot_id"
   ]
  },
  {
   "attachments": {},
   "cell_type": "markdown",
   "metadata": {},
   "source": [
    "## 2 - pybullet_planning\n",
    "[pybullet_planning](https://github.com/yijiangh/pybullet_planning) is a package that provides a few convenience functions for PyBullet."
   ]
  },
  {
   "cell_type": "code",
   "execution_count": null,
   "metadata": {},
   "outputs": [],
   "source": [
    "import pybullet_planning as pp"
   ]
  },
  {
   "cell_type": "code",
   "execution_count": null,
   "metadata": {},
   "outputs": [],
   "source": [
    "joint_ids = pp.get_movable_joints(robot_id)\n",
    "joint_ids"
   ]
  },
  {
   "cell_type": "code",
   "execution_count": null,
   "metadata": {},
   "outputs": [],
   "source": [
    "pp.get_joint_names(robot_id, joint_ids)"
   ]
  },
  {
   "cell_type": "code",
   "execution_count": null,
   "metadata": {},
   "outputs": [],
   "source": [
    "link_ids = pp.get_all_links(robot_id)\n",
    "\n",
    "for link_id in link_ids:\n",
    "    print(f\"{link_id:2} {pp.get_link_name(robot_id, link_id)}\")\n"
   ]
  },
  {
   "cell_type": "code",
   "execution_count": null,
   "metadata": {},
   "outputs": [],
   "source": [
    "for link_id in link_ids:\n",
    "    color = (1, 1, 1, 0.5)\n",
    "    p.changeVisualShape(robot_id, link_id, shapeIndex=-1, rgbaColor=color)"
   ]
  },
  {
   "cell_type": "code",
   "execution_count": null,
   "metadata": {},
   "outputs": [],
   "source": [
    "GEOM_TYPES = {\n",
    "    p.GEOM_SPHERE: \"sphere\",\n",
    "    p.GEOM_BOX: \"box\",\n",
    "    p.GEOM_CYLINDER: \"cylinder\",\n",
    "    p.GEOM_MESH: \"mesh\",\n",
    "    p.GEOM_PLANE: \"plane\",\n",
    "    p.GEOM_CAPSULE: \"capsule\",\n",
    "    p.GEOM_HEIGHTFIELD: \"heightfield\",\n",
    "}\n",
    "\n",
    "collision_link_ids = []\n",
    "\n",
    "for link_id in link_ids:\n",
    "    collisionShapeData = p.getCollisionShapeData(robot_id, link_id)\n",
    "    if not collisionShapeData:\n",
    "        continue\n",
    "\n",
    "    collision_link_ids.append(link_id)\n",
    "    # Print info\n",
    "    link_name = pp.get_link_name(robot_id, link_id)\n",
    "    print(f\"{link_name:20} {GEOM_TYPES[collisionShapeData[0][2]]}\")\n",
    "    # p.addUserDebugText(f\"{link_id:2} {pp.get_link_name(robot_id, link_id)}\", pp.get_link_pose(robot_id, link_id)[0], textColorRGB=[1, 1, 1], textSize=1.5, lifeTime=0)\n",
    "\n",
    "collision_link_ids"
   ]
  },
  {
   "cell_type": "code",
   "execution_count": null,
   "metadata": {},
   "outputs": [],
   "source": [
    "from itertools import product\n",
    "example = ['a', 'b', 'c']\n",
    "example_pairs = list(product(example, example))\n",
    "print(example_pairs)"
   ]
  },
  {
   "cell_type": "code",
   "execution_count": null,
   "metadata": {},
   "outputs": [],
   "source": [
    "collision_pairs = list(product(collision_link_ids, collision_link_ids))\n",
    "len(collision_pairs)"
   ]
  },
  {
   "cell_type": "code",
   "execution_count": null,
   "metadata": {},
   "outputs": [],
   "source": [
    "def remove_link_self_pairs(pairs):\n",
    "    return [pair for pair in pairs if pair[0] != pair[1]]\n",
    "\n",
    "\n",
    "def remove_equivalent_pairs(pairs):\n",
    "    # collision checking is commutative so we only need to check one direction\n",
    "    return [pair for pair in pairs if pair[0] <= pair[1]]\n",
    "\n",
    "def remove_parent_child_pairs(pairs):\n",
    "    return [pair for pair in pairs if not pp.are_links_adjacent(robot_id, *pair)]\n",
    "\n",
    "collision_pairs = remove_link_self_pairs(collision_pairs)\n",
    "collision_pairs = remove_equivalent_pairs(collision_pairs)\n",
    "collision_pairs = remove_parent_child_pairs(collision_pairs)\n",
    "len(collision_pairs) "
   ]
  },
  {
   "cell_type": "code",
   "execution_count": null,
   "metadata": {},
   "outputs": [],
   "source": [
    "for i, pair in enumerate(collision_pairs):\n",
    "    linkA_id, linkB_id = pair\n",
    "    print(f\"{i:2} {pp.get_link_name(robot_id, linkA_id):20} {pp.get_link_name(robot_id, linkB_id)}\")"
   ]
  },
  {
   "cell_type": "code",
   "execution_count": null,
   "metadata": {},
   "outputs": [],
   "source": [
    "joint_angles = [-0.39215112,  2.46158236,  2.91327904, -0.73235854,  1.83296247,  0.18155214]\n",
    "pp.set_joint_positions(robot_id, joint_ids, joint_angles)\n"
   ]
  },
  {
   "cell_type": "code",
   "execution_count": null,
   "metadata": {},
   "outputs": [],
   "source": [
    "def get_colliding_pairs(pairs):\n",
    "    colliding_pairs = []\n",
    "    # p.performCollisionDetection() # not sure if this is required?\n",
    "    for linkA_id, linkB_id in pairs:\n",
    "        points =p.getClosestPoints(bodyA=robot_id, bodyB=robot_id, distance=0.0, linkIndexA=linkA_id, linkIndexB=linkB_id)\n",
    "\n",
    "        if len(points) > 0:\n",
    "            colliding_pairs.append((linkA_id, linkB_id))\n",
    "    return colliding_pairs\n",
    "        \n",
    "\n",
    "\n",
    "colliding_pairs = get_colliding_pairs(collision_pairs)\n",
    "for linkA_id, linkB_id in colliding_pairs:    \n",
    "    print(f\"{pp.get_link_name(robot_id, linkA_id):20} {pp.get_link_name(robot_id, linkB_id)}\")\n",
    "    colliding_color = (1, 0, 0, 0.2)\n",
    "    p.changeVisualShape(robot_id, linkA_id, shapeIndex=-1, rgbaColor=colliding_color)\n",
    "    p.changeVisualShape(robot_id, linkB_id, shapeIndex=-1, rgbaColor=colliding_color)"
   ]
  },
  {
   "cell_type": "code",
   "execution_count": null,
   "metadata": {},
   "outputs": [],
   "source": [
    "# collision_fn = pp.get_collision_fn(\n",
    "#     robot_id, ik_joints, obstacles=[], attachments=[], self_collisions=True, disabled_collisions=self_collision_links\n",
    "# )\n",
    "\n",
    "# performCollisionDetection\n",
    "# setCollisionFilterGroupMask"
   ]
  },
  {
   "cell_type": "code",
   "execution_count": null,
   "metadata": {},
   "outputs": [],
   "source": [
    "import numpy as np\n",
    "# random_joints = np.random.uniform(-np.pi, np.pi, len(joints))\n",
    "# colliding = collision_fn(random_joints)\n",
    "# colliding"
   ]
  },
  {
   "cell_type": "code",
   "execution_count": null,
   "metadata": {},
   "outputs": [],
   "source": [
    "np.random.seed(0)"
   ]
  },
  {
   "cell_type": "code",
   "execution_count": null,
   "metadata": {},
   "outputs": [],
   "source": [
    "import time\n",
    "random_joints_start = np.random.uniform(-np.pi, np.pi, len(joint_ids))\n",
    "random_joints_end = np.random.uniform(-np.pi, np.pi, len(joint_ids))\n",
    "\n",
    "print(random_joints_end)\n",
    "\n",
    "n_steps = 200\n",
    "for i in range(n_steps):\n",
    "    alpha = i / (n_steps - 1)\n",
    "    joint_angles = (1 - alpha) * random_joints_start + alpha * random_joints_end\n",
    "    pp.set_joint_positions(robot_id, joint_ids, joint_angles)\n",
    "    time.sleep(0.01)\n"
   ]
  },
  {
   "cell_type": "code",
   "execution_count": null,
   "metadata": {},
   "outputs": [],
   "source": [
    "p.disconnect()"
   ]
  },
  {
   "cell_type": "code",
   "execution_count": null,
   "metadata": {},
   "outputs": [],
   "source": []
  }
 ],
 "metadata": {
  "kernelspec": {
   "display_name": "planning",
   "language": "python",
   "name": "python3"
  },
  "language_info": {
   "codemirror_mode": {
    "name": "ipython",
    "version": 3
   },
   "file_extension": ".py",
   "mimetype": "text/x-python",
   "name": "python",
   "nbconvert_exporter": "python",
   "pygments_lexer": "ipython3",
   "version": "3.10.11"
  },
  "orig_nbformat": 4
 },
 "nbformat": 4,
 "nbformat_minor": 2
}
